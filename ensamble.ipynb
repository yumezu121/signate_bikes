{
 "cells": [
  {
   "cell_type": "code",
   "execution_count": 1,
   "metadata": {},
   "outputs": [],
   "source": [
    "import pandas as pd"
   ]
  },
  {
   "cell_type": "code",
   "execution_count": 2,
   "metadata": {},
   "outputs": [],
   "source": [
    "seed0 = pd.read_csv('sub_lightgbm_seed0.csv')\n",
    "rf = pd.read_csv('sub_lightgbm.csv')\n"
   ]
  },
  {
   "cell_type": "code",
   "execution_count": 6,
   "metadata": {},
   "outputs": [],
   "source": [
    "for i in range(193199):\n",
    "    ave = (seed0.iloc[i,1] + rf.iloc[i,1]) / 2\n",
    "    seed0.iloc[i,1] = ave "
   ]
  },
  {
   "cell_type": "code",
   "execution_count": 7,
   "metadata": {},
   "outputs": [
    {
     "data": {
      "text/html": [
       "<div>\n",
       "<style scoped>\n",
       "    .dataframe tbody tr th:only-of-type {\n",
       "        vertical-align: middle;\n",
       "    }\n",
       "\n",
       "    .dataframe tbody tr th {\n",
       "        vertical-align: top;\n",
       "    }\n",
       "\n",
       "    .dataframe thead th {\n",
       "        text-align: right;\n",
       "    }\n",
       "</style>\n",
       "<table border=\"1\" class=\"dataframe\">\n",
       "  <thead>\n",
       "    <tr style=\"text-align: right;\">\n",
       "      <th></th>\n",
       "      <th>8761</th>\n",
       "      <th>13.323099393334953</th>\n",
       "    </tr>\n",
       "  </thead>\n",
       "  <tbody>\n",
       "    <tr>\n",
       "      <th>0</th>\n",
       "      <td>8762</td>\n",
       "      <td>13.411476</td>\n",
       "    </tr>\n",
       "    <tr>\n",
       "      <th>1</th>\n",
       "      <td>8763</td>\n",
       "      <td>13.411476</td>\n",
       "    </tr>\n",
       "    <tr>\n",
       "      <th>2</th>\n",
       "      <td>8764</td>\n",
       "      <td>13.411476</td>\n",
       "    </tr>\n",
       "    <tr>\n",
       "      <th>3</th>\n",
       "      <td>8765</td>\n",
       "      <td>13.411476</td>\n",
       "    </tr>\n",
       "    <tr>\n",
       "      <th>4</th>\n",
       "      <td>8766</td>\n",
       "      <td>13.411476</td>\n",
       "    </tr>\n",
       "    <tr>\n",
       "      <th>...</th>\n",
       "      <td>...</td>\n",
       "      <td>...</td>\n",
       "    </tr>\n",
       "    <tr>\n",
       "      <th>193194</th>\n",
       "      <td>1226347</td>\n",
       "      <td>7.132028</td>\n",
       "    </tr>\n",
       "    <tr>\n",
       "      <th>193195</th>\n",
       "      <td>1226348</td>\n",
       "      <td>7.149216</td>\n",
       "    </tr>\n",
       "    <tr>\n",
       "      <th>193196</th>\n",
       "      <td>1226349</td>\n",
       "      <td>7.158182</td>\n",
       "    </tr>\n",
       "    <tr>\n",
       "      <th>193197</th>\n",
       "      <td>1226350</td>\n",
       "      <td>7.171670</td>\n",
       "    </tr>\n",
       "    <tr>\n",
       "      <th>193198</th>\n",
       "      <td>1226351</td>\n",
       "      <td>7.171670</td>\n",
       "    </tr>\n",
       "  </tbody>\n",
       "</table>\n",
       "<p>193199 rows × 2 columns</p>\n",
       "</div>"
      ],
      "text/plain": [
       "           8761  13.323099393334953\n",
       "0          8762           13.411476\n",
       "1          8763           13.411476\n",
       "2          8764           13.411476\n",
       "3          8765           13.411476\n",
       "4          8766           13.411476\n",
       "...         ...                 ...\n",
       "193194  1226347            7.132028\n",
       "193195  1226348            7.149216\n",
       "193196  1226349            7.158182\n",
       "193197  1226350            7.171670\n",
       "193198  1226351            7.171670\n",
       "\n",
       "[193199 rows x 2 columns]"
      ]
     },
     "execution_count": 7,
     "metadata": {},
     "output_type": "execute_result"
    }
   ],
   "source": [
    "seed0"
   ]
  },
  {
   "cell_type": "code",
   "execution_count": null,
   "metadata": {},
   "outputs": [],
   "source": [
    "seed0.to_csv('sub_lightgbm_ensamble.csv', index=False)"
   ]
  }
 ],
 "metadata": {
  "interpreter": {
   "hash": "7a9a3f5c8c3076a5167ef2225a65d20e50e7e5b56ad4d066013b9a9bd86ee838"
  },
  "kernelspec": {
   "display_name": "Python 3.8.11 64-bit ('kaggle': conda)",
   "name": "python3"
  },
  "language_info": {
   "codemirror_mode": {
    "name": "ipython",
    "version": 3
   },
   "file_extension": ".py",
   "mimetype": "text/x-python",
   "name": "python",
   "nbconvert_exporter": "python",
   "pygments_lexer": "ipython3",
   "version": "3.8.11"
  },
  "orig_nbformat": 4
 },
 "nbformat": 4,
 "nbformat_minor": 2
}
